{
  "nbformat": 4,
  "nbformat_minor": 0,
  "metadata": {
    "colab": {
      "name": "project_S&P500.ipynb",
      "provenance": [],
      "collapsed_sections": [],
      "mount_file_id": "1ij-LoZJ0sYzOZJhN58Ivc2CzyG3ZZW_w",
      "authorship_tag": "ABX9TyMHwNMpwSCwOdkyXpEgl9c3",
      "include_colab_link": true
    },
    "kernelspec": {
      "name": "python3",
      "display_name": "Python 3"
    },
    "language_info": {
      "name": "python"
    }
  },
  "cells": [
    {
      "cell_type": "markdown",
      "metadata": {
        "id": "view-in-github",
        "colab_type": "text"
      },
      "source": [
        "<a href=\"https://colab.research.google.com/github/KaissonFerreira/Projeto-S-P500/blob/main/project_S%26P500.ipynb\" target=\"_parent\"><img src=\"https://colab.research.google.com/assets/colab-badge.svg\" alt=\"Open In Colab\"/></a>"
      ]
    },
    {
      "cell_type": "markdown",
      "metadata": {
        "id": "mom1byer0tl7"
      },
      "source": [
        "#**S&P 500 - (banco de dados retirados do Kaggle)**\n",
        "https://www.kaggle.com/paytonfisher/sp-500-companies-with-financial-information\n",
        "\n",
        "\n",
        "---\n",
        "\n",
        "##Contexto de negócio##\n",
        "\n",
        "\n",
        "---\n",
        "\n",
        "\n",
        "  O S&P 500 é um índice ponderado por capitalização das **500 maiores empresas de capital aberto** dos Estados Unidos (significando as 500 maiores empresas com maior capitalização de mercado). O índice S&P 500 é um índice útil para estudar porque geralmente reflete a saúde de todo o mercado de ações dos Estados Unidos. \n",
        "\n",
        "  Nesse banco dados, podemos encontrar alguns dos principais indicadores para investir em uma empresa. Tais indicadores estão correlacionados com as 500 maiores empresas de capitalização dos EUA. Assim, um dos objetivos desse projeto é **analisar as empresas que possuem maiores chances de valorização em suas ações**. Entretanto, vale ressaltar, que por si só, esses indicadores não são suficientes para ter um alto grau de confiabilidade a longo prazo, mas é possível retirar alguns insight que possam **auxiliar** na tomada de decisão do investidor para escolher em qual ação investir.\n",
        "\n",
        "  Para analisar uma determinada ação de uma empresa e verificar se vale a pena investir nela, há dois métodos de avaliação. O primeiro deles é a **análise fundamentalista**, que tem por objetivo obter lucros no investimento a médio e longo prazo, e a **análise técnica**, que tem por objetivo obter ganhos financeiros a curto prazo, e, que de modo simplório, esse tipo de análise tem como foco os padrões e movimentações das ações por meio de gráficos.\n",
        "\n",
        "  Esse projeto aborda uma análise fundamentalista, mediante aos tipos de dados oferecidos. Esse tipo de análise consiste em fundamentos quantitativos e qualitativos.\n",
        "\n",
        "* **Fundamentos quantitativos**: São aqueles que são medidos em números **(os \n",
        "dados do projetos estão inseridos nessa categoria)**.\n",
        "\n",
        "* **Fundamentos qualitativos**: São fatores internos e externos que podem contribuir com a rentabilidade e crescimento da empresa, favorencendo seus ganhos financeiros, mas que também podem levar uma empresa ao prejuízo, e consequentemente, aos acionistas.\n",
        "\n",
        "\n",
        "\n",
        "\n"
      ]
    },
    {
      "cell_type": "markdown",
      "metadata": {
        "id": "V8jDbwNw1YZB"
      },
      "source": [
        "#**Cumprimento de alguns requisitos para geração de Insights**\n",
        "Categorizando as empresas por setores, temos que:\n",
        "* Identificar quais são os setores que tem uma maior lucrativade;\n",
        "* Identificar quais são os setores que tem um maior retorno de dividendos para os acionistas;\n",
        "* Identificar quais são os setores mais valiosos no mercado (Market cup);\n",
        "\n",
        "Analisando as empresas dos principais setores, temos que: \n",
        "\n",
        "* Identificar quais são as melhores empresas para se investir em cada setor, analisando o P/E o dividendo Yeld;\n",
        "* Analisar o Market Cup (capitalização de mercado) das empresas escolhidas;\n",
        "* Analisar o número de ações de cada empresa;\n",
        "* Identificar quais empresas apresentam uma melhor gestão operacional de caixa, sem atribuir os efeitos financeiros e de impostos; (Analisar o EBITDA)\n",
        "* Identificar quais são as empresas que demonstram um maior potencial de crescimentos; (Analisar o Prices/book)"
      ]
    },
    {
      "cell_type": "markdown",
      "metadata": {
        "id": "kio8aMW37avx"
      },
      "source": [
        "#**Passo a passo de um projeto de dados** :\n",
        "\n",
        "\n",
        "\n",
        "1.   Entendimento do desafio\n",
        "2.   Entendimento da área/empresa\n",
        "3.   Extração/Obtenção de dados\n",
        "4.   Ajuste de dados (tratamento/limpeza)\n",
        "5.   Análise exploratória\n",
        "6.   Modelagem + algorítmos (modelos de machine learning)\n",
        "7.   Interpretação de resultados"
      ]
    },
    {
      "cell_type": "markdown",
      "metadata": {
        "id": "ktDwEO8I3Vsq"
      },
      "source": [
        "## **Import**\n"
      ]
    },
    {
      "cell_type": "markdown",
      "metadata": {
        "id": "VQgaOQYC3nWI"
      },
      "source": [
        "Importando algumas bibliotecas que serão utilizadas no projeto:\n"
      ]
    },
    {
      "cell_type": "code",
      "metadata": {
        "id": "Tq0uNO0V3lMW"
      },
      "source": [
        "import pandas as pd\n",
        "import matplotlib.pyplot as plt\n",
        "import seaborn as sns\n"
      ],
      "execution_count": 1,
      "outputs": []
    },
    {
      "cell_type": "markdown",
      "metadata": {
        "id": "rrTYSWtOkkx9"
      },
      "source": [
        "## **Extração e tratamento**"
      ]
    },
    {
      "cell_type": "markdown",
      "metadata": {
        "id": "PgaqUuXU7GCB"
      },
      "source": [
        "Importando a base de dados e verificando se há elementos faltantes."
      ]
    },
    {
      "cell_type": "code",
      "metadata": {
        "colab": {
          "base_uri": "https://localhost:8080/",
          "height": 683
        },
        "id": "so9jRTCc4C5J",
        "outputId": "425e31b2-1c37-4d33-ee16-c145a88bffb9"
      },
      "source": [
        "df = pd.read_csv('/content/drive/MyDrive/Colab Notebooks/Projeto S&P 500/financials.csv')\n",
        "display(df.head()) #Verificando os indicadores presentes no banco de dados\n",
        "display(df.isnull().sum()) #Verificando e somando os elementos faltantes\n",
        "df = df.rename(columns={'Price/Sales':'P/S','Price/Book':'P/B','Dividend Yield':'DY','Earnings/Share':'E/S','Price/Earnings':'P/E'}) # Renomeando alguns desses indicadores.\n"
      ],
      "execution_count": 18,
      "outputs": [
        {
          "output_type": "display_data",
          "data": {
            "text/html": [
              "<div>\n",
              "<style scoped>\n",
              "    .dataframe tbody tr th:only-of-type {\n",
              "        vertical-align: middle;\n",
              "    }\n",
              "\n",
              "    .dataframe tbody tr th {\n",
              "        vertical-align: top;\n",
              "    }\n",
              "\n",
              "    .dataframe thead th {\n",
              "        text-align: right;\n",
              "    }\n",
              "</style>\n",
              "<table border=\"1\" class=\"dataframe\">\n",
              "  <thead>\n",
              "    <tr style=\"text-align: right;\">\n",
              "      <th></th>\n",
              "      <th>Symbol</th>\n",
              "      <th>Name</th>\n",
              "      <th>Sector</th>\n",
              "      <th>Price</th>\n",
              "      <th>Price/Earnings</th>\n",
              "      <th>Dividend Yield</th>\n",
              "      <th>Earnings/Share</th>\n",
              "      <th>52 Week Low</th>\n",
              "      <th>52 Week High</th>\n",
              "      <th>Market Cap</th>\n",
              "      <th>EBITDA</th>\n",
              "      <th>Price/Sales</th>\n",
              "      <th>Price/Book</th>\n",
              "      <th>SEC Filings</th>\n",
              "    </tr>\n",
              "  </thead>\n",
              "  <tbody>\n",
              "    <tr>\n",
              "      <th>0</th>\n",
              "      <td>MMM</td>\n",
              "      <td>3M Company</td>\n",
              "      <td>Industrials</td>\n",
              "      <td>222.89</td>\n",
              "      <td>24.31</td>\n",
              "      <td>2.332862</td>\n",
              "      <td>7.92</td>\n",
              "      <td>259.77</td>\n",
              "      <td>175.490</td>\n",
              "      <td>1.387211e+11</td>\n",
              "      <td>9.048000e+09</td>\n",
              "      <td>4.390271</td>\n",
              "      <td>11.34</td>\n",
              "      <td>http://www.sec.gov/cgi-bin/browse-edgar?action...</td>\n",
              "    </tr>\n",
              "    <tr>\n",
              "      <th>1</th>\n",
              "      <td>AOS</td>\n",
              "      <td>A.O. Smith Corp</td>\n",
              "      <td>Industrials</td>\n",
              "      <td>60.24</td>\n",
              "      <td>27.76</td>\n",
              "      <td>1.147959</td>\n",
              "      <td>1.70</td>\n",
              "      <td>68.39</td>\n",
              "      <td>48.925</td>\n",
              "      <td>1.078342e+10</td>\n",
              "      <td>6.010000e+08</td>\n",
              "      <td>3.575483</td>\n",
              "      <td>6.35</td>\n",
              "      <td>http://www.sec.gov/cgi-bin/browse-edgar?action...</td>\n",
              "    </tr>\n",
              "    <tr>\n",
              "      <th>2</th>\n",
              "      <td>ABT</td>\n",
              "      <td>Abbott Laboratories</td>\n",
              "      <td>Health Care</td>\n",
              "      <td>56.27</td>\n",
              "      <td>22.51</td>\n",
              "      <td>1.908982</td>\n",
              "      <td>0.26</td>\n",
              "      <td>64.60</td>\n",
              "      <td>42.280</td>\n",
              "      <td>1.021210e+11</td>\n",
              "      <td>5.744000e+09</td>\n",
              "      <td>3.740480</td>\n",
              "      <td>3.19</td>\n",
              "      <td>http://www.sec.gov/cgi-bin/browse-edgar?action...</td>\n",
              "    </tr>\n",
              "    <tr>\n",
              "      <th>3</th>\n",
              "      <td>ABBV</td>\n",
              "      <td>AbbVie Inc.</td>\n",
              "      <td>Health Care</td>\n",
              "      <td>108.48</td>\n",
              "      <td>19.41</td>\n",
              "      <td>2.499560</td>\n",
              "      <td>3.29</td>\n",
              "      <td>125.86</td>\n",
              "      <td>60.050</td>\n",
              "      <td>1.813863e+11</td>\n",
              "      <td>1.031000e+10</td>\n",
              "      <td>6.291571</td>\n",
              "      <td>26.14</td>\n",
              "      <td>http://www.sec.gov/cgi-bin/browse-edgar?action...</td>\n",
              "    </tr>\n",
              "    <tr>\n",
              "      <th>4</th>\n",
              "      <td>ACN</td>\n",
              "      <td>Accenture plc</td>\n",
              "      <td>Information Technology</td>\n",
              "      <td>150.51</td>\n",
              "      <td>25.47</td>\n",
              "      <td>1.714470</td>\n",
              "      <td>5.44</td>\n",
              "      <td>162.60</td>\n",
              "      <td>114.820</td>\n",
              "      <td>9.876586e+10</td>\n",
              "      <td>5.643228e+09</td>\n",
              "      <td>2.604117</td>\n",
              "      <td>10.62</td>\n",
              "      <td>http://www.sec.gov/cgi-bin/browse-edgar?action...</td>\n",
              "    </tr>\n",
              "  </tbody>\n",
              "</table>\n",
              "</div>"
            ],
            "text/plain": [
              "  Symbol  ...                                        SEC Filings\n",
              "0    MMM  ...  http://www.sec.gov/cgi-bin/browse-edgar?action...\n",
              "1    AOS  ...  http://www.sec.gov/cgi-bin/browse-edgar?action...\n",
              "2    ABT  ...  http://www.sec.gov/cgi-bin/browse-edgar?action...\n",
              "3   ABBV  ...  http://www.sec.gov/cgi-bin/browse-edgar?action...\n",
              "4    ACN  ...  http://www.sec.gov/cgi-bin/browse-edgar?action...\n",
              "\n",
              "[5 rows x 14 columns]"
            ]
          },
          "metadata": {
            "tags": []
          }
        },
        {
          "output_type": "display_data",
          "data": {
            "text/plain": [
              "Symbol            0\n",
              "Name              0\n",
              "Sector            0\n",
              "Price             0\n",
              "Price/Earnings    2\n",
              "Dividend Yield    0\n",
              "Earnings/Share    0\n",
              "52 Week Low       0\n",
              "52 Week High      0\n",
              "Market Cap        0\n",
              "EBITDA            0\n",
              "Price/Sales       0\n",
              "Price/Book        8\n",
              "SEC Filings       0\n",
              "dtype: int64"
            ]
          },
          "metadata": {
            "tags": []
          }
        }
      ]
    },
    {
      "cell_type": "markdown",
      "metadata": {
        "id": "nLpDnqde7PBh"
      },
      "source": [
        "Observa-se que há alguns elementos vazios no indicador P/E (Price/Earnings ou preço da ação pelo lucro). Então podemos calcular as células faltantes pela razão entre os dados da coluna Price (Preço da ação) e da coluna E/S (Earnings/Shere ou lucro por ação)."
      ]
    },
    {
      "cell_type": "code",
      "metadata": {
        "id": "_i5ggNh0O466",
        "colab": {
          "base_uri": "https://localhost:8080/"
        },
        "outputId": "bf067a04-b0b7-47af-e684-4bd90f4dea2a"
      },
      "source": [
        "df['P/E'].fillna(df['Price']/df['E/S'], inplace=True)\n",
        "print(df['P/E'].isnull().sum()) #Verificando se de fato foram preenchidos os dados faltante na coluna Price/Earnings."
      ],
      "execution_count": 17,
      "outputs": [
        {
          "output_type": "stream",
          "text": [
            "0\n"
          ],
          "name": "stdout"
        }
      ]
    },
    {
      "cell_type": "markdown",
      "metadata": {
        "id": "ljTGP-9K1ynq"
      },
      "source": [
        "Os elementos vazios presentes na coluna P/B (Price/Book ou preço sobre valor patrimonial) não serão tratados no momento. Quando ocorrer as análises sobre esse indicador, poderemos afirmar de qual maneira ele poderá ser tratado.\n",
        "Desse modo, terminamos a parte de tratamento e limpeza dos dados."
      ]
    },
    {
      "cell_type": "markdown",
      "metadata": {
        "id": "fmtQR2hs4ykI"
      },
      "source": [
        "##**Análise Exploratória**\n",
        "\n",
        "\n",
        "---\n",
        "\n",
        "\n",
        "\n",
        "---\n",
        "\n",
        "\n",
        "Na análise exploratória, poderemos retirar alguns dos insights propostos no inicio desse projeto. Para isso, será dividido em dois segmentos, um caracterizado pela análise entre setores e o outro carcterizado pela análise de empresas do mesmo setor (diga-se por passagem, que é uma análise bem mais conveniente)."
      ]
    },
    {
      "cell_type": "markdown",
      "metadata": {
        "id": "r9rGyvO-7Pbc"
      },
      "source": [
        "###**Comparação de alguns indicadores entre o mesmo setor**\n",
        "\n",
        "\n",
        "---\n",
        "Primeiro será feito a categorização de dados por setor e armazenado em outra variável."
      ]
    },
    {
      "cell_type": "code",
      "metadata": {
        "id": "nRzBg3lh7s4J"
      },
      "source": [
        ""
      ],
      "execution_count": null,
      "outputs": []
    },
    {
      "cell_type": "markdown",
      "metadata": {
        "id": "BVaRi3lW5qHG"
      },
      "source": [
        "###**Comparação dos indicadores entre empresas do mesmo setor**\n",
        "---\n",
        "Como existem diversos setores, será avaliado os 5 primeiros setores com mais empresas.\n"
      ]
    },
    {
      "cell_type": "code",
      "metadata": {
        "id": "IjNOH6f3SF_p",
        "colab": {
          "base_uri": "https://localhost:8080/"
        },
        "outputId": "cd1cc980-17bf-4f9c-86ee-4cbf6354583a"
      },
      "source": [
        ""
      ],
      "execution_count": 15,
      "outputs": [
        {
          "output_type": "stream",
          "text": [
            "0      False\n",
            "1      False\n",
            "2      False\n",
            "3      False\n",
            "4      False\n",
            "       ...  \n",
            "500    False\n",
            "501    False\n",
            "502    False\n",
            "503    False\n",
            "504    False\n",
            "Name: P/B, Length: 505, dtype: bool\n"
          ],
          "name": "stdout"
        }
      ]
    },
    {
      "cell_type": "code",
      "metadata": {
        "id": "nDCAXV2gRzUO"
      },
      "source": [
        ""
      ],
      "execution_count": null,
      "outputs": []
    }
  ]
}